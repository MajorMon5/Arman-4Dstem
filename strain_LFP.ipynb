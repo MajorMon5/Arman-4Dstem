{
 "cells": [
  {
   "cell_type": "markdown",
   "id": "5ecec9a6",
   "metadata": {},
   "source": [
    "# Useful links\n",
    "pyxem\n",
    "1. Documentation: https://pyxem.readthedocs.io/en/stable/user_guide/installing.html\n",
    "\n",
    "py4dStem\n",
    "1. Documentation: https://py4dstem.readthedocs.io/en/latest/api/py4DSTEM.html\n",
    "2. https://github.com/py4dstem/py4DSTEM/blob/dev/py4DSTEM/process/strain/strain.py\n",
    "3. \n",
    "\n",
    "other\n",
    "1. https://www.nature.com/articles/s41524-022-00939-9#code-availability\n",
    "2. CODE FROM: https://github.com/py4dstem/py4DSTEM_tutorials/blob/main/notebooks/strain_LFP.ipynb\n",
    "3. https://github.com/AI-ML-4DSTEM/4D-OPTIMIZE/tree/nersc_ray"
   ]
  },
  {
   "cell_type": "markdown",
   "id": "ff053747",
   "metadata": {},
   "source": [
    "# Read file\n",
    "\n",
    "What parameters are necessary? initial ROI, QR rotation, recip px size, real px size, kernel (C2 size, Camera Length), datacube, ..."
   ]
  },
  {
   "cell_type": "code",
   "execution_count": null,
   "id": "75c0b022",
   "metadata": {},
   "outputs": [],
   "source": [
    "#Libraries\n",
    "import pandas as pd\n",
    "import py4DSTEM\n",
    "from py4DSTEM import show\n",
    "import numpy as np\n",
    "import matplotlib.pyplot as plt\n",
    "print('py4DSTEM version: {}'.format(py4DSTEM.__version__))"
   ]
  },
  {
   "cell_type": "code",
   "execution_count": null,
   "id": "bbc3fe41",
   "metadata": {},
   "outputs": [],
   "source": []
  },
  {
   "cell_type": "code",
   "execution_count": null,
   "id": "86c42c8f",
   "metadata": {},
   "outputs": [
    {
     "ename": "NameError",
     "evalue": "name 'filepath' is not defined",
     "output_type": "error",
     "traceback": [
      "\u001b[31m---------------------------------------------------------------------------\u001b[39m",
      "\u001b[31mNameError\u001b[39m                                 Traceback (most recent call last)",
      "\u001b[36mCell\u001b[39m\u001b[36m \u001b[39m\u001b[32mIn[4]\u001b[39m\u001b[32m, line 2\u001b[39m\n\u001b[32m      1\u001b[39m \u001b[38;5;66;03m#Import the file. Can Read dm3/4, .emd, bin/gtg, mib\u001b[39;00m\n\u001b[32m----> \u001b[39m\u001b[32m2\u001b[39m datacube = py4DSTEM.import_file(\u001b[43mfilepath\u001b[49m)\n",
      "\u001b[31mNameError\u001b[39m: name 'filepath' is not defined"
     ]
    }
   ],
   "source": []
  },
  {
   "cell_type": "code",
   "execution_count": null,
   "id": "d9b466c7",
   "metadata": {},
   "outputs": [],
   "source": []
  },
  {
   "cell_type": "markdown",
   "id": "edb5e22b",
   "metadata": {},
   "source": [
    "# Using py4dstem\n",
    "Strain in 4DSTEM is single phase strain.\n",
    "If you are trying to find the strain you are going to need to assume the user looking at a material that is all the same phase.\n",
    "\n",
    "To find strain you will have a region identified as your baseline. This is your 0 strain region. Everywhere else is 0,+ or - in strain. \n",
    "All diffraction patterns will need to be compared to this region. \n",
    "\n",
    "\n",
    "Orientation indexing (with actual material indeces) will need to be compared to a .cif file. This is performed more widely and should* be simpler to implement.\n",
    "Orientation indexing will need to begin by simulating the .cif file structures. For a multi-phase multi material object take a look at the pyxem documentation (I dont think py4dstem mentions this for multi-component multi-material systems)\n",
    "\n"
   ]
  },
  {
   "cell_type": "code",
   "execution_count": null,
   "id": "0e2042f4",
   "metadata": {},
   "outputs": [],
   "source": [
    "#Establish file path\n",
    "filepath_data = r\"c:\\Users\\a.santana\\Downloads\\Sb2S3_Prec1deg_Ort2_DPs.hspy\""
   ]
  },
  {
   "cell_type": "code",
   "execution_count": null,
   "id": "59686077",
   "metadata": {},
   "outputs": [],
   "source": [
    "py4DSTEM.print_h5_tree( filepath_data )"
   ]
  },
  {
   "cell_type": "code",
   "execution_count": null,
   "id": "ca5091b6",
   "metadata": {},
   "outputs": [],
   "source": [
    "# Load data\n",
    "datacube = py4DSTEM.read( filepath = filepath_data )\n",
    "\n",
    "# print results\n",
    "print(datacube)"
   ]
  },
  {
   "cell_type": "code",
   "execution_count": null,
   "id": "730d504f",
   "metadata": {},
   "outputs": [],
   "source": [
    "# Mean and max diffraction pattern of the calibration and measurement datasets\n",
    "\n",
    "# compute\n",
    "dp_mean = datacube.get_dp_mean()\n",
    "dp_max = datacube.get_dp_max()\n",
    "\n",
    "# show\n",
    "show(\n",
    "    [dp_mean,dp_max],\n",
    "    cmap = 'inferno',\n",
    "    title = ['mean DP','max DP']\n",
    ")"
   ]
  },
  {
   "cell_type": "code",
   "execution_count": null,
   "id": "2b6fc59d",
   "metadata": {},
   "outputs": [],
   "source": [
    "# Virtual imaging - position the detectors\n",
    "\n",
    "\n",
    "# We'll generate a bright-field (BF) and an annular dark-field (ADF) virtual image\n",
    "# for both the calibration and measurement datasets\n",
    "\n",
    "\n",
    "# Set the center\n",
    "center = (69,64)\n",
    "\n",
    "\n",
    "# set the geometries\n",
    "radius_bf = 20\n",
    "geometry_bf = (center,radius_bf)\n",
    "geometry_adf = (center,(radius_bf,10e3))\n",
    "\n",
    "# display the detector positions\n",
    "datacube.position_detector(\n",
    "    data = dp_max,\n",
    "    mode = 'circle',\n",
    "    geometry = geometry_bf\n",
    ")\n",
    "datacube.position_detector(\n",
    "    data = dp_max,\n",
    "    mode = 'annulus',\n",
    "    geometry = geometry_adf\n",
    ")"
   ]
  },
  {
   "cell_type": "code",
   "execution_count": null,
   "id": "a66b0dea",
   "metadata": {},
   "outputs": [],
   "source": [
    "# Virtual imaging - compute the images\n",
    "\n",
    "\n",
    "# compute\n",
    "im_bf = datacube.get_virtual_image(\n",
    "    mode = 'circle',\n",
    "    geometry = geometry_bf,\n",
    "    name = 'bright_field_cal',\n",
    ")\n",
    "im_adf = datacube.get_virtual_image(\n",
    "    mode = 'annulus',\n",
    "    geometry = geometry_adf,\n",
    "    name = 'dark_field_cal',\n",
    ")\n",
    "\n",
    "# show\n",
    "py4DSTEM.show(\n",
    "    [im_bf,im_adf],\n",
    "    figsize=(16,2),\n",
    "    bordercolor = 'w',\n",
    "    cmap='gray',\n",
    "    title=['BF','ADF']\n",
    ")"
   ]
  },
  {
   "cell_type": "markdown",
   "id": "60110c20",
   "metadata": {},
   "source": [
    "# Construct the probe template"
   ]
  },
  {
   "cell_type": "code",
   "execution_count": null,
   "id": "ec830b32",
   "metadata": {},
   "outputs": [],
   "source": [
    "# Examine scan points for a vacuum probe\n",
    "\n",
    "rx,ry = 7,11\n",
    "\n",
    "py4DSTEM.visualize.show_selected_dp(\n",
    "    datacube,\n",
    "    im_adf,\n",
    "    rx,\n",
    "    ry\n",
    ")"
   ]
  },
  {
   "cell_type": "code",
   "execution_count": null,
   "id": "f423cb46",
   "metadata": {},
   "outputs": [],
   "source": [
    "# Select a vacuum region\n",
    "\n",
    "xlims = 4,10\n",
    "ylims = 8,14\n",
    "\n",
    "ROI = np.zeros(datacube.rshape, dtype=bool)\n",
    "ROI[xlims[0]:xlims[1], ylims[0]:ylims[1]] = True\n",
    "\n",
    "show(\n",
    "    im_adf,\n",
    "    mask = ROI,\n",
    "    mask_color = 'r',\n",
    "    mask_alpha = 0.5\n",
    ")"
   ]
  },
  {
   "cell_type": "code",
   "execution_count": null,
   "id": "e4a407c5",
   "metadata": {},
   "outputs": [],
   "source": [
    "probe = datacube.get_vacuum_probe(\n",
    "    ROI = ROI,\n",
    ")\n",
    "\n",
    "show(\n",
    "    probe.probe,\n",
    "    vmin=0,\n",
    "    vmax=1,\n",
    ")"
   ]
  },
  {
   "cell_type": "code",
   "execution_count": null,
   "id": "105d4055",
   "metadata": {},
   "outputs": [],
   "source": [
    "# Estimate the radius of the BF disk\n",
    "\n",
    "probe_semiangle, probe_qx0, probe_qy0 = py4DSTEM.process.calibration.get_probe_size(probe.probe)\n",
    "\n",
    "show(\n",
    "    probe.probe,\n",
    "    circle = {\n",
    "        'center' : (probe_qx0,probe_qy0),\n",
    "        'R' : probe_semiangle,\n",
    "    },\n",
    "    vmin = 0,\n",
    "    vmax = 1\n",
    ")"
   ]
  },
  {
   "cell_type": "code",
   "execution_count": null,
   "id": "ffe703e0",
   "metadata": {},
   "outputs": [],
   "source": [
    "probe.get_kernel(\n",
    "    mode = 'sigmoid',\n",
    "    origin = (probe_qx0,probe_qy0),\n",
    "    radii = (probe_semiangle * 1,\n",
    "             probe_semiangle * 4\n",
    "    )\n",
    ")\n",
    "\n",
    "py4DSTEM.visualize.show_kernel(\n",
    "    probe.kernel,\n",
    "    R = 30,\n",
    "    L = 30,\n",
    "    W = 1\n",
    ")"
   ]
  },
  {
   "cell_type": "markdown",
   "id": "04a19a8b",
   "metadata": {},
   "source": [
    "# Find Bragg Peaks"
   ]
  },
  {
   "cell_type": "code",
   "execution_count": null,
   "id": "2e01e444",
   "metadata": {},
   "outputs": [],
   "source": [
    "# Choose some diffraction patterns to use for hyperparameter tuning\n",
    "\n",
    "\n",
    "rxs = 45, 25, 25, 35, 25, 66\n",
    "rys = 17, 39, 14, 17, 42, 25\n",
    "\n",
    "\n",
    "colors=['deeppink','coral','gold','chartreuse','dodgerblue','rebeccapurple']\n",
    "\n",
    "\n",
    "py4DSTEM.visualize.show_points(\n",
    "    im_adf,\n",
    "    x=rxs,\n",
    "    y=rys,\n",
    "    pointcolor=colors,\n",
    "    figsize=(4,4)\n",
    ")\n",
    "\n",
    "py4DSTEM.visualize.show_image_grid(\n",
    "    get_ar = lambda i:datacube.data[rxs[i],rys[i],:,:],\n",
    "    H=2, \n",
    "    W=3,\n",
    "    axsize=(5,5),\n",
    "    scaling='log',\n",
    "    vmin=0,\n",
    "    vmax=1,\n",
    "    get_bordercolor = lambda i:colors[i],\n",
    ")"
   ]
  },
  {
   "cell_type": "code",
   "execution_count": null,
   "id": "592f5336",
   "metadata": {},
   "outputs": [],
   "source": [
    "# Tune disk detection parameters\n",
    "\n",
    "\n",
    "# disk detection parameters\n",
    "detect_params = {\n",
    "    'corrPower': 1.0,\n",
    "    'sigma': 0,\n",
    "    'edgeBoundary': 4,\n",
    "    'minRelativeIntensity': 0,\n",
    "    'minAbsoluteIntensity': 8,\n",
    "    'minPeakSpacing': 4,\n",
    "    'subpixel': 'poly',\n",
    "    # 'subpixel' : 'multicorr',\n",
    "    'upsample_factor': 8,\n",
    "    'maxNumPeaks': 1000,\n",
    "#     'CUDA': True,\n",
    "}\n",
    "# Note that \"poly\" subpixel fitting can be used to keep this tutoral fast, but \"multicorr\"\n",
    "# is more accurate. For high precision strain mapping, subpixel=\"multicorr\" is recommended.\n",
    "\n",
    "\n",
    "# find the selected disks\n",
    "disks_selected = datacube.find_Bragg_disks(\n",
    "    data = (rxs, rys),\n",
    "    template = probe.kernel,\n",
    "    **detect_params,\n",
    ")\n",
    "\n",
    "# show\n",
    "py4DSTEM.visualize.show_image_grid(\n",
    "    get_ar = lambda i:datacube.data[rxs[i],rys[i],:,:],\n",
    "    H=2, \n",
    "    W=3,\n",
    "    axsize=(5,5),\n",
    "    scaling='log',\n",
    "    vmin=0,\n",
    "    vmax=1,\n",
    "    get_bordercolor = lambda i:colors[i],\n",
    "    get_x = lambda i: disks_selected[i].data['qx'],\n",
    "    get_y = lambda i: disks_selected[i].data['qy'],\n",
    "    get_pointcolors = lambda i: colors[i],\n",
    "    open_circles = True,\n",
    "    scale = 700,\n",
    ")"
   ]
  },
  {
   "cell_type": "code",
   "execution_count": null,
   "id": "dbdd2445",
   "metadata": {},
   "outputs": [],
   "source": [
    "# Find Bragg peaks in all probe positions.\n",
    "\n",
    "\n",
    "braggpeaks = datacube.find_Bragg_disks(\n",
    "    template = probe.kernel,\n",
    "    **detect_params,\n",
    ")"
   ]
  },
  {
   "cell_type": "markdown",
   "id": "220a7121",
   "metadata": {},
   "source": [
    "# Calibration\n",
    "\n",
    "## Center Coordinate System"
   ]
  },
  {
   "cell_type": "code",
   "execution_count": null,
   "id": "08b42d47",
   "metadata": {},
   "outputs": [],
   "source": [
    "# Compute a Bragg vector map,\n",
    "# i.e. a 2D histogram of the Bragg peak positions,\n",
    "# weighted by their correlation intensities\n",
    "\n",
    "bvm_raw = braggpeaks.histogram(mode = 'raw')\n",
    "\n",
    "# Plot the BVM\n",
    "bvm_vis_params = {\n",
    "    'scaling':'power',\n",
    "    'power':0.5,\n",
    "    'intensity_range':'absolute',\n",
    "    'vmin':0,\n",
    "    'vmax':2e3\n",
    "}\n",
    "py4DSTEM.show(\n",
    "    bvm_raw,\n",
    "    **bvm_vis_params,\n",
    "    returnfig = True\n",
    ")"
   ]
  },
  {
   "cell_type": "markdown",
   "id": "1da1cb6a",
   "metadata": {},
   "source": [
    "center guess can be done by finding the middle of a 256,256 image\n",
    "or\n",
    "by finding the most intense set of data till it drops off and masking it"
   ]
  },
  {
   "cell_type": "code",
   "execution_count": null,
   "id": "42f92830",
   "metadata": {},
   "outputs": [],
   "source": [
    "# Initial guess for the center position\n",
    "\n",
    "center_guess = 128,128\n",
    "\n",
    "py4DSTEM.show(\n",
    "    bvm_raw,\n",
    "    points = {'x':center_guess[0],'y':center_guess[1]},\n",
    "    **bvm_vis_params,\n",
    ")"
   ]
  },
  {
   "cell_type": "code",
   "execution_count": null,
   "id": "0c805270",
   "metadata": {},
   "outputs": [],
   "source": [
    "# Find the origin at each beam position\n",
    "\n",
    "# measure the origin\n",
    "origin_meas = braggpeaks.measure_origin( center_guess=center_guess )\n",
    "\n",
    "# fit a 2D plane\n",
    "qx0_fit,qy0_fit,qx0_residuals,qy0_residuals = braggpeaks.fit_origin(\n",
    "    ticks = False,\n",
    "    axsize = (4,4),\n",
    ")"
   ]
  },
  {
   "cell_type": "code",
   "execution_count": null,
   "id": "d071c380",
   "metadata": {},
   "outputs": [],
   "source": [
    "# Get the Bragg vector map after centering using our new origin measurements\n",
    "\n",
    "# compute\n",
    "bvm_centered = braggpeaks.histogram()\n",
    "\n",
    "# show\n",
    "py4DSTEM.show(\n",
    "    bvm_centered,\n",
    "    **bvm_vis_params,\n",
    ")\n",
    "py4DSTEM.show(\n",
    "    bvm_centered,\n",
    "    vmin=0,\n",
    "    vmax=1,\n",
    "    circle = {\n",
    "        'center' : bvm_centered.origin,\n",
    "        'R' : 2,\n",
    "    },\n",
    ")"
   ]
  },
  {
   "cell_type": "code",
   "execution_count": null,
   "id": "b94e9c1d",
   "metadata": {},
   "outputs": [],
   "source": [
    "# Get the Bragg vector map after centering using our new origin measurements\n",
    "\n",
    "# compute\n",
    "bvm_centered_masked = braggpeaks.histogram()\n",
    "\n",
    "# show\n",
    "py4DSTEM.show(\n",
    "    bvm_centered_masked,\n",
    "    **bvm_vis_params,\n",
    ")\n",
    "py4DSTEM.show(\n",
    "    bvm_centered_masked,\n",
    "    vmin=0,\n",
    "    vmax=1,\n",
    "    circle = {\n",
    "        'center' : bvm_centered_masked.origin,\n",
    "        'R' : 2,\n",
    "    },\n",
    ")"
   ]
  },
  {
   "cell_type": "markdown",
   "id": "5f1cd33f",
   "metadata": {},
   "source": [
    "### Ellipticity"
   ]
  },
  {
   "cell_type": "code",
   "execution_count": null,
   "id": "83600bed",
   "metadata": {},
   "outputs": [],
   "source": [
    "# Select a region of thicker lacy carbon\n",
    "\n",
    "xlims = 75,86\n",
    "ylims = 35,43\n",
    "\n",
    "ROI_amorph = np.zeros(datacube.rshape, dtype=bool)\n",
    "ROI_amorph[xlims[0]:xlims[1], ylims[0]:ylims[1]] = True\n",
    "\n",
    "show(\n",
    "    im_adf,\n",
    "    mask = ROI_amorph,\n",
    "    mask_color = 'r',\n",
    "    mask_alpha = 0.5\n",
    ")"
   ]
  },
  {
   "cell_type": "code",
   "execution_count": null,
   "id": "fab56de1",
   "metadata": {},
   "outputs": [],
   "source": [
    "im_SAED_amorph = datacube.get_virtual_diffraction(\n",
    "    'mean',\n",
    "    mask = ROI_amorph,\n",
    "    shift_center = True\n",
    ")\n",
    "\n",
    "show(\n",
    "    im_SAED_amorph,\n",
    "    intensity_range = 'absolute',\n",
    "    vmin = 4e1,\n",
    "    vmax = 8e3,\n",
    "    scaling = 'log'\n",
    ")"
   ]
  },
  {
   "cell_type": "code",
   "execution_count": null,
   "id": "78e1f744",
   "metadata": {},
   "outputs": [],
   "source": [
    "# Select fit radii\n",
    "\n",
    "q_range = (16,36)\n",
    "\n",
    "py4DSTEM.show(\n",
    "    im_SAED_amorph.data,\n",
    "    intensity_range = 'absolute',\n",
    "    vmin = 4e1,\n",
    "    vmax = 8e3,\n",
    "    scaling = 'log',\n",
    "    annulus={\n",
    "        'center':im_SAED_amorph.calibration.get_origin_mean(),\n",
    "        'radii': q_range,'fill':True,'color':'r','alpha':0.3}\n",
    ")"
   ]
  },
  {
   "cell_type": "code",
   "execution_count": null,
   "id": "644f1753",
   "metadata": {},
   "outputs": [],
   "source": [
    "# Fit the amorphous halo\n",
    "\n",
    "p_ellipse,p_dsg = py4DSTEM.process.calibration.fit_ellipse_amorphous_ring(\n",
    "    data = im_SAED_amorph.data,\n",
    "    center = im_SAED_amorph.calibration.get_origin_mean(),\n",
    "    fitradii = q_range\n",
    ")\n",
    "\n",
    "# Show the fit\n",
    "py4DSTEM.visualize.show_amorphous_ring_fit(\n",
    "    im_SAED_amorph.data,\n",
    "    fitradii = q_range,\n",
    "    p_dsg = p_dsg,\n",
    ")"
   ]
  },
  {
   "cell_type": "code",
   "execution_count": null,
   "id": "c197441f",
   "metadata": {},
   "outputs": [],
   "source": [
    "print(p_ellipse)"
   ]
  },
  {
   "cell_type": "code",
   "execution_count": null,
   "id": "692762f2",
   "metadata": {},
   "outputs": [],
   "source": [
    "# Set the ellipse calibration\n",
    "\n",
    "braggpeaks.calibration.set_p_ellipse(p_ellipse)\n",
    "braggpeaks.setcal()"
   ]
  },
  {
   "cell_type": "code",
   "execution_count": null,
   "id": "824d64f7",
   "metadata": {},
   "outputs": [],
   "source": [
    "braggpeaks.calibration"
   ]
  },
  {
   "cell_type": "code",
   "execution_count": null,
   "id": "618174a5",
   "metadata": {},
   "outputs": [],
   "source": [
    "# Get a new corrected BVM\n",
    "\n",
    "# compute\n",
    "bvm_ellipse = braggpeaks.histogram( mode='cal' )\n",
    "\n",
    "\n",
    "# show\n",
    "show(\n",
    "    [bvm_centered_masked, bvm_ellipse],\n",
    "    vmax=0.99,\n",
    "    title = [\"bvm before ellipse fit\", \"bvm after ellipse fit\"]\n",
    ")"
   ]
  },
  {
   "cell_type": "markdown",
   "id": "a7fbd47a",
   "metadata": {},
   "source": [
    "### Rotation\n",
    "\n",
    "Measure QR Rotation with pseudo-dpc with only the center beam (QR rotation might be given by the emd or mrc file and this can then be ignored)"
   ]
  },
  {
   "cell_type": "code",
   "execution_count": null,
   "id": "405d21ee",
   "metadata": {},
   "outputs": [],
   "source": [
    "# make a mask\n",
    "\n",
    "mask_radius = 14\n",
    "\n",
    "qyy,qxx = np.meshgrid(\n",
    "    np.arange(datacube.qshape[1]),\n",
    "    np.arange(datacube.qshape[0]),\n",
    ")\n",
    "origin = braggpeaks.calibration.get_origin_mean()\n",
    "qq = np.hypot(qxx-origin[0],qyy-origin[1])\n",
    "mask_pseudoDPC = qq<mask_radius\n",
    "\n",
    "show(\n",
    "    dp_max,\n",
    "    vmax = 0.975,\n",
    "    circle = {\n",
    "        'center' : braggpeaks.calibration.get_origin_mean(),\n",
    "        'R' : mask_radius\n",
    "    }\n",
    ")\n",
    "show(\n",
    "    dp_max,\n",
    "    vmax = 0.975,\n",
    "    mask = mask_pseudoDPC,\n",
    "    mask_color = 'r',\n",
    "    mask_alpha = 0.5\n",
    ")"
   ]
  },
  {
   "cell_type": "code",
   "execution_count": null,
   "id": "861d1c82",
   "metadata": {},
   "outputs": [],
   "source": [
    "# perform DPC preprocessing\n",
    "\n",
    "dpc = py4DSTEM.process.phase.DPCReconstruction(\n",
    "    datacube = datacube,\n",
    ").preprocess(\n",
    "    dp_mask = mask_pseudoDPC,\n",
    ")"
   ]
  },
  {
   "cell_type": "code",
   "execution_count": null,
   "id": "2f267b40",
   "metadata": {},
   "outputs": [],
   "source": [
    "# The rotation was measured at roughly -71 degrees and is input below manually.\n",
    "# Can you find a way to confirm that this is the right rotation using only what you've seen so far in this notebook?\n",
    "\n",
    "braggpeaks.calibration.set_QR_rotation_degrees(-71)\n",
    "braggpeaks.calibration.set_QR_flip(True)\n",
    "#braggpeaks.calibration.set_QR_rotation_degrees(-71)\n",
    "#braggpeaks.calibration.set_QR_flip(False)\n",
    "braggpeaks.setcal()"
   ]
  },
  {
   "cell_type": "code",
   "execution_count": null,
   "id": "bc3fd3c3",
   "metadata": {},
   "outputs": [],
   "source": [
    "# Update BVM\n",
    "\n",
    "# compute\n",
    "bvm = braggpeaks.histogram( mode='cal' )\n",
    "\n",
    "\n",
    "# show\n",
    "show([bvm_raw, bvm],vmax=0.99)"
   ]
  },
  {
   "cell_type": "markdown",
   "id": "dc8a1981",
   "metadata": {},
   "source": [
    "## Strain"
   ]
  },
  {
   "cell_type": "code",
   "execution_count": null,
   "id": "61b51ab6",
   "metadata": {},
   "outputs": [],
   "source": [
    "strainmap = py4DSTEM.StrainMap( braggvectors=braggpeaks )"
   ]
  },
  {
   "cell_type": "code",
   "execution_count": null,
   "id": "1fc6bf1b",
   "metadata": {},
   "outputs": [],
   "source": [
    "strainmap.choose_basis_vectors(\n",
    "    minSpacing=10,\n",
    "    minAbsoluteIntensity=1e3,\n",
    "    maxNumPeaks=100,\n",
    "    edgeBoundary=5,\n",
    "    vis_params = bvm_vis_params,\n",
    "    # index_g1 = 11,\n",
    "    # index_g2 = 9,\n",
    ")"
   ]
  },
  {
   "cell_type": "code",
   "execution_count": null,
   "id": "056381d7",
   "metadata": {},
   "outputs": [],
   "source": [
    "strainmap.fit_basis_vectors(\n",
    "    max_peak_spacing = 3,\n",
    ")"
   ]
  },
  {
   "cell_type": "code",
   "execution_count": null,
   "id": "67a8ae90",
   "metadata": {},
   "outputs": [],
   "source": [
    "# strain map\n",
    "\n",
    "strainmap.get_strain(\n",
    "#    coordinate_rotation = 0,\n",
    "    coordinate_rotation = -55,\n",
    "#    coordinate_rotation = -100,\n",
    "    layout = \"horizontal\",\n",
    "    vrange = [-6.0, 6.0],\n",
    "    vrange_theta = [-2.0, 2.0],\n",
    "    # mask_color = \"blue\"\n",
    ")"
   ]
  },
  {
   "cell_type": "code",
   "execution_count": null,
   "id": "3f45513e",
   "metadata": {},
   "outputs": [],
   "source": [
    "strainmap.show_strain(\n",
    "    layout = \"horizontal\",\n",
    "    vrange = [-6.0, 6.0],\n",
    "    vrange_theta = [-2.0, 2.0],\n",
    "    show_gvects = True,\n",
    ")"
   ]
  },
  {
   "cell_type": "code",
   "execution_count": null,
   "id": "d6728445",
   "metadata": {},
   "outputs": [],
   "source": [
    "strainmap.show_reference_directions(\n",
    "    visp_cal={\n",
    "        'scaling' : 'none',\n",
    "        'vmax' : 0.995\n",
    "    },\n",
    "    visp_uncal={\n",
    "        'scaling' : 'none',\n",
    "        'vmax' : 0.995\n",
    "    },\n",
    "    camera_length = 1.4 #This is inputted manually\n",
    ")"
   ]
  },
  {
   "cell_type": "markdown",
   "id": "6121b825",
   "metadata": {},
   "source": [
    "## Strain using reference g1 and g2 and from an ROI"
   ]
  },
  {
   "cell_type": "code",
   "execution_count": null,
   "id": "eaa1a986",
   "metadata": {},
   "outputs": [],
   "source": [
    "# Set reference region\n",
    "\n",
    "ROI = np.zeros(braggpeaks.Rshape, dtype=bool)\n",
    "ROI[40:50, 20:25] = True \n",
    "# ^You need to determiine your ROI on a user by user basis... maybe unless in this notebook they are able to determine where\n",
    "# there is 0 strain. Which i dont think they do.\n",
    "\n",
    "show(\n",
    "    im_adf,\n",
    "    mask = ROI,\n",
    "    mask_color='r',\n",
    "    mask_alpha=0.4\n",
    ")"
   ]
  },
  {
   "cell_type": "markdown",
   "id": "da4be968",
   "metadata": {},
   "source": [
    "What are these coordinate rotation values they use from? What are the vrange and vrange theta from?\\\n",
    "\n",
    "Seems to be coming from their process of rotating the sample. (QR is from the beam rotation)\n",
    "\n",
    "vrange is related to the colorbar intensity shift. Not important to collecting data."
   ]
  },
  {
   "cell_type": "code",
   "execution_count": null,
   "id": "b0d9be0a",
   "metadata": {},
   "outputs": [],
   "source": [
    "# strain from a region\n",
    "\n",
    "strainmap.get_strain(\n",
    "    gvects = ROI,\n",
    "    coordinate_rotation = 0,\n",
    "    #coordinate_rotation = -55,\n",
    "#    coordinate_rotation = -100,\n",
    "    layout = \"square\",\n",
    "    vrange = [-6.0, 6.0],\n",
    "    vrange_theta = [-2.0, 2.0],\n",
    ")"
   ]
  },
  {
   "cell_type": "markdown",
   "id": "61f018f0",
   "metadata": {},
   "source": [
    "## Strain using a manually specified reference g1 and g2"
   ]
  },
  {
   "cell_type": "code",
   "execution_count": null,
   "id": "70867c45",
   "metadata": {},
   "outputs": [],
   "source": [
    "g1_ref, g2_ref = strainmap.get_reference_g1g2( ROI )\n",
    "\n",
    "strainmap.get_strain(\n",
    "    gvects = (g1_ref,g2_ref),\n",
    "    coordinate_rotation = 0,\n",
    "    layout = \"horizontal\",\n",
    "    vrange = [-6.0, 6.0],\n",
    "    vrange_theta = [-2.0, 2.0],\n",
    ")"
   ]
  },
  {
   "cell_type": "code",
   "execution_count": null,
   "id": "03d975bf",
   "metadata": {},
   "outputs": [],
   "source": [
    "# end\n",
    "#https://github.com/py4dstem/py4DSTEM_tutorials/blob/main/notebooks/strain_LFP.ipynb"
   ]
  }
 ],
 "metadata": {
  "kernelspec": {
   "display_name": "venv311",
   "language": "python",
   "name": "python3"
  },
  "language_info": {
   "codemirror_mode": {
    "name": "ipython",
    "version": 3
   },
   "file_extension": ".py",
   "mimetype": "text/x-python",
   "name": "python",
   "nbconvert_exporter": "python",
   "pygments_lexer": "ipython3",
   "version": "3.11.9"
  }
 },
 "nbformat": 4,
 "nbformat_minor": 5
}
