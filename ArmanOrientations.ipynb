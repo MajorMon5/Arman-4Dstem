{
 "cells": [
  {
   "cell_type": "markdown",
   "id": "0456b6c1",
   "metadata": {},
   "source": [
    "# Useful links\n",
    "\n",
    "1. https://github.com/YTianUCI/in-situ-4D-STEM-Analysis-of-Polycrystal-Grain-Evolution/blob/main/NMF_Grain_Seg.ipynb"
   ]
  },
  {
   "cell_type": "markdown",
   "id": "a23fa96a",
   "metadata": {},
   "source": [
    "# Libraries"
   ]
  },
  {
   "cell_type": "code",
   "execution_count": null,
   "id": "058d0db1",
   "metadata": {},
   "outputs": [],
   "source": []
  },
  {
   "cell_type": "code",
   "execution_count": null,
   "id": "6dd4ebac",
   "metadata": {},
   "outputs": [],
   "source": []
  },
  {
   "cell_type": "markdown",
   "id": "4cf1b90d",
   "metadata": {},
   "source": [
    "# Find Braggs Peaks"
   ]
  },
  {
   "cell_type": "markdown",
   "id": "41c4011b",
   "metadata": {},
   "source": []
  },
  {
   "cell_type": "code",
   "execution_count": null,
   "id": "dc7d84e9",
   "metadata": {},
   "outputs": [],
   "source": []
  },
  {
   "cell_type": "markdown",
   "id": "0f6cfb3e",
   "metadata": {},
   "source": [
    "# Get Orientations"
   ]
  },
  {
   "cell_type": "code",
   "execution_count": null,
   "id": "8af948d0",
   "metadata": {},
   "outputs": [],
   "source": [
    "# py4DSTEM.process.diffraction.utils.OrientationMap(num_x: int, num_y: int, num_matches: int)\n",
    "\n",
    "datacube.OrientationMap"
   ]
  }
 ],
 "metadata": {
  "kernelspec": {
   "display_name": "venv311",
   "language": "python",
   "name": "python3"
  },
  "language_info": {
   "name": "python",
   "version": "3.11.9"
  }
 },
 "nbformat": 4,
 "nbformat_minor": 5
}
