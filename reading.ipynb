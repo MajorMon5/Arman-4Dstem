{
 "cells": [
  {
   "cell_type": "markdown",
   "id": "5ecec9a6",
   "metadata": {},
   "source": [
    "# Useful links\n",
    "pyxem\n",
    "1. Documentation: https://pyxem.readthedocs.io/en/stable/user_guide/installing.html\n",
    "\n",
    "py4dStem\n",
    "1. Documentation: https://py4dstem.readthedocs.io/en/latest/api/py4DSTEM.html\n",
    "2. https://github.com/py4dstem/py4DSTEM/blob/dev/py4DSTEM/process/strain/strain.py\n",
    "3. \n",
    "\n",
    "other\n",
    "1. L"
   ]
  },
  {
   "cell_type": "markdown",
   "id": "ff053747",
   "metadata": {},
   "source": [
    "# Read file\n"
   ]
  },
  {
   "cell_type": "code",
   "execution_count": null,
   "id": "75c0b022",
   "metadata": {},
   "outputs": [],
   "source": [
    "#Libraries\n",
    "\n",
    "import py4DSTEM\n",
    "import numpy as np\n",
    "import pandas as pd\n"
   ]
  },
  {
   "cell_type": "code",
   "execution_count": null,
   "id": "bbc3fe41",
   "metadata": {},
   "outputs": [],
   "source": [
    "#Paths\n",
    "filepath = "
   ]
  },
  {
   "cell_type": "code",
   "execution_count": 4,
   "id": "86c42c8f",
   "metadata": {},
   "outputs": [
    {
     "ename": "NameError",
     "evalue": "name 'filepath' is not defined",
     "output_type": "error",
     "traceback": [
      "\u001b[31m---------------------------------------------------------------------------\u001b[39m",
      "\u001b[31mNameError\u001b[39m                                 Traceback (most recent call last)",
      "\u001b[36mCell\u001b[39m\u001b[36m \u001b[39m\u001b[32mIn[4]\u001b[39m\u001b[32m, line 2\u001b[39m\n\u001b[32m      1\u001b[39m \u001b[38;5;66;03m#Import the file. Can Read dm3/4, .emd, bin/gtg, mib\u001b[39;00m\n\u001b[32m----> \u001b[39m\u001b[32m2\u001b[39m datacube = py4DSTEM.import_file(\u001b[43mfilepath\u001b[49m)\n",
      "\u001b[31mNameError\u001b[39m: name 'filepath' is not defined"
     ]
    }
   ],
   "source": [
    "#Import the file. Can Read dm3/4, .emd, bin/gtg, mib\n",
    "datacube = py4DSTEM.import_file(filepath)"
   ]
  },
  {
   "cell_type": "code",
   "execution_count": null,
   "id": "d9b466c7",
   "metadata": {},
   "outputs": [],
   "source": [
    "print(datacube)"
   ]
  },
  {
   "cell_type": "markdown",
   "id": "edb5e22b",
   "metadata": {},
   "source": [
    "# Using py4dstem\n",
    "Strain in 4DSTEM is single phase strain.\n",
    "If you are trying to find the strain you are going to need to assume the user looking at a material that is all the same phase.\n",
    "\n",
    "To find strain you will have a region identified as your baseline. This is your 0 strain region. Everywhere else is 0,+ or - in strain. \n",
    "All diffraction patterns will need to be compared to this region. \n",
    "\n",
    "\n",
    "Orientation indexing (with actual material indeces) will need to be compared to a .cif file. This is performed more widely and should* be simpler to implement.\n",
    "Orientation indexing will need to begin by simulating the .cif file structures. For a multi-phase multi material object take a look at the pyxem documentation (I dont think py4dstem mentions this for multi-component multi-material systems)\n",
    "\n"
   ]
  },
  {
   "cell_type": "code",
   "execution_count": null,
   "id": "ca5091b6",
   "metadata": {},
   "outputs": [],
   "source": []
  },
  {
   "cell_type": "code",
   "execution_count": null,
   "id": "f01e9cb7",
   "metadata": {},
   "outputs": [],
   "source": [
    "py4DSTEM.braggvectors.diskdetection.find_bragg_disks()\n",
    "\n",
    "py4DSTEM.braggvectors.diskdetection.find_bragg_peaks()\n",
    "\n"
   ]
  },
  {
   "cell_type": "markdown",
   "id": "e2288b6c",
   "metadata": {},
   "source": [
    "# Using pyxem"
   ]
  }
 ],
 "metadata": {
  "kernelspec": {
   "display_name": "venv311",
   "language": "python",
   "name": "python3"
  },
  "language_info": {
   "codemirror_mode": {
    "name": "ipython",
    "version": 3
   },
   "file_extension": ".py",
   "mimetype": "text/x-python",
   "name": "python",
   "nbconvert_exporter": "python",
   "pygments_lexer": "ipython3",
   "version": "3.11.9"
  }
 },
 "nbformat": 4,
 "nbformat_minor": 5
}
