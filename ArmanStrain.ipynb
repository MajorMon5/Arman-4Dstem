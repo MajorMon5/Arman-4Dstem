{
 "cells": [
  {
   "cell_type": "markdown",
   "id": "7ec994bb",
   "metadata": {},
   "source": [
    "# Useful links\n",
    "pyxem\n",
    "1. Documentation: https://pyxem.readthedocs.io/en/stable/user_guide/installing.html\n",
    "\n",
    "py4dStem\n",
    "1. Documentation: https://py4dstem.readthedocs.io/en/latest/api/py4DSTEM.html\n",
    "2. https://github.com/py4dstem/py4DSTEM/blob/dev/py4DSTEM/process/strain/strain.py\n",
    "3. \n"
   ]
  },
  {
   "cell_type": "markdown",
   "id": "ceab0310",
   "metadata": {},
   "source": [
    "### Notes\n",
    "\n",
    "1. To remove center beam: Consider finding the most intense peak and masking it instead of manually selecting a vacuum area. Try to find the Yuan reference with how its done there. "
   ]
  },
  {
   "cell_type": "code",
   "execution_count": null,
   "id": "7a302c25",
   "metadata": {},
   "outputs": [],
   "source": [
    "#Libraries\n",
    "import pandas as pd\n",
    "import py4DSTEM\n",
    "from py4DSTEM import show\n",
    "import numpy as np\n",
    "import matplotlib.pyplot as plt\n",
    "print('py4DSTEM version: {}'.format(py4DSTEM.__version__))"
   ]
  },
  {
   "cell_type": "code",
   "execution_count": null,
   "id": "03be7e3a",
   "metadata": {},
   "outputs": [],
   "source": [
    "myfilepath = \"path/to/your/file.dm3\""
   ]
  },
  {
   "cell_type": "code",
   "execution_count": null,
   "id": "baa90352",
   "metadata": {},
   "outputs": [],
   "source": [
    "emdfile.read(filepath = myfilepath) #or filepath = , emdpath = myemdpath"
   ]
  },
  {
   "cell_type": "code",
   "execution_count": null,
   "id": "557cfad4",
   "metadata": {},
   "outputs": [],
   "source": [
    "#Import the file. Can Read dm3/4, .emd, bin/gtg, mib\n",
    "datacube = py4DSTEM.import_file(filepath = myfilepath)\n",
    "\n",
    "data = py4DSTEM.read(filepath = myfilepath)"
   ]
  },
  {
   "cell_type": "code",
   "execution_count": null,
   "id": "89f6a0f5",
   "metadata": {},
   "outputs": [],
   "source": [
    "# Mean and max diffraction pattern of the calibration and measurement datasets\n",
    "\n",
    "# compute\n",
    "dp_mean = datacube.get_dp_mean()\n",
    "dp_max = datacube.get_dp_max()\n",
    "\n",
    "# show\n",
    "show(\n",
    "    [dp_mean,dp_max],\n",
    "    cmap = 'inferno',\n",
    "    title = ['mean DP','max DP']\n",
    ")"
   ]
  },
  {
   "cell_type": "markdown",
   "id": "d4f114ca",
   "metadata": {},
   "source": [
    "# Find the Bragg Peaks"
   ]
  },
  {
   "cell_type": "code",
   "execution_count": null,
   "id": "90795c22",
   "metadata": {},
   "outputs": [],
   "source": [
    "py4DSTEM.braggvectors.diskdetection.find_bragg_disks()\n",
    "\n",
    "py4DSTEM.braggvectors.diskdetection.find_bragg_peaks()"
   ]
  },
  {
   "cell_type": "code",
   "execution_count": null,
   "id": "cec2f017",
   "metadata": {},
   "outputs": [],
   "source": [
    "# Choose some diffraction patterns to use for hyperparameter tuning\n",
    "\n",
    "\n",
    "rxs = 45, 25, 25, 35, 25, 66\n",
    "rys = 17, 39, 14, 17, 42, 25\n",
    "\n",
    "\n",
    "colors=['deeppink','coral','gold','chartreuse','dodgerblue','rebeccapurple']\n",
    "\n",
    "\n",
    "py4DSTEM.visualize.show_points(\n",
    "    im_adf,\n",
    "    x=rxs,\n",
    "    y=rys,\n",
    "    pointcolor=colors,\n",
    "    figsize=(4,4)\n",
    ")\n",
    "\n",
    "py4DSTEM.visualize.show_image_grid(\n",
    "    get_ar = lambda i:datacube.data[rxs[i],rys[i],:,:],\n",
    "    H=2, \n",
    "    W=3,\n",
    "    axsize=(5,5),\n",
    "    scaling='log',\n",
    "    vmin=0,\n",
    "    vmax=1,\n",
    "    get_bordercolor = lambda i:colors[i],\n",
    ")"
   ]
  },
  {
   "cell_type": "code",
   "execution_count": null,
   "id": "7eb36000",
   "metadata": {},
   "outputs": [],
   "source": [
    "# Tune disk detection parameters\n",
    "\n",
    "\n",
    "# disk detection parameters\n",
    "detect_params = {\n",
    "    'corrPower': 1.0,\n",
    "    'sigma': 0,\n",
    "    'edgeBoundary': 4,\n",
    "    'minRelativeIntensity': 0,\n",
    "    'minAbsoluteIntensity': 8,\n",
    "    'minPeakSpacing': 4,\n",
    "    'subpixel': 'poly',\n",
    "    # 'subpixel' : 'multicorr',\n",
    "    'upsample_factor': 8,\n",
    "    'maxNumPeaks': 1000,\n",
    "#     'CUDA': True,\n",
    "}\n",
    "# Note that \"poly\" subpixel fitting can be used to keep this tutoral fast, but \"multicorr\"\n",
    "# is more accurate. For high precision strain mapping, subpixel=\"multicorr\" is recommended.\n",
    "\n",
    "\n",
    "# find the selected disks\n",
    "disks_selected = datacube.find_Bragg_disks(\n",
    "    data = (rxs, rys),\n",
    "    template = probe.kernel,\n",
    "    **detect_params,\n",
    ")"
   ]
  },
  {
   "cell_type": "code",
   "execution_count": null,
   "id": "ee224bb3",
   "metadata": {},
   "outputs": [],
   "source": [
    "#Find peaks for all the probe positions\n",
    "\n",
    "braggpeaks = datacube.find_Bragg_disks(\n",
    "    template = probe.kernel,\n",
    "    **detect_params,\n",
    ")"
   ]
  },
  {
   "cell_type": "code",
   "execution_count": null,
   "id": "3785c30d",
   "metadata": {},
   "outputs": [],
   "source": []
  },
  {
   "cell_type": "markdown",
   "id": "e848d970",
   "metadata": {},
   "source": [
    "# Calibrate and center guess"
   ]
  },
  {
   "cell_type": "code",
   "execution_count": null,
   "id": "b73998fb",
   "metadata": {},
   "outputs": [],
   "source": []
  }
 ],
 "metadata": {
  "kernelspec": {
   "display_name": "venv311",
   "language": "python",
   "name": "python3"
  },
  "language_info": {
   "name": "python",
   "version": "3.11.9"
  }
 },
 "nbformat": 4,
 "nbformat_minor": 5
}
