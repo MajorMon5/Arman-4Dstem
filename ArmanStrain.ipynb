{
 "cells": [
  {
   "cell_type": "markdown",
   "id": "7ec994bb",
   "metadata": {},
   "source": [
    "# Useful links\n",
    "pyxem\n",
    "1. Documentation: https://pyxem.readthedocs.io/en/stable/user_guide/installing.html\n",
    "\n",
    "py4dStem\n",
    "1. Documentation: https://py4dstem.readthedocs.io/en/latest/api/py4DSTEM.html\n",
    "2. https://github.com/py4dstem/py4DSTEM/blob/dev/py4DSTEM/process/strain/strain.py\n",
    "3. \n"
   ]
  },
  {
   "cell_type": "markdown",
   "id": "ceab0310",
   "metadata": {},
   "source": [
    "### Notes\n",
    "\n",
    "1. To remove center beam: Consider finding the most intense peak and masking it instead of manually selecting a vacuum area. Try to find the Yuan reference with how its done there. "
   ]
  },
  {
   "cell_type": "code",
   "execution_count": 11,
   "id": "7a302c25",
   "metadata": {},
   "outputs": [
    {
     "name": "stdout",
     "output_type": "stream",
     "text": [
      "py4DSTEM version: 0.14.18\n"
     ]
    }
   ],
   "source": [
    "#Libraries\n",
    "import pandas as pd\n",
    "import py4DSTEM\n",
    "import py4DSTEM.io\n",
    "from py4DSTEM import show\n",
    "import numpy as np\n",
    "import matplotlib.pyplot as plt\n",
    "print('py4DSTEM version: {}'.format(py4DSTEM.__version__))"
   ]
  },
  {
   "cell_type": "code",
   "execution_count": 15,
   "id": "03be7e3a",
   "metadata": {},
   "outputs": [],
   "source": [
    "#myfilepath = r\"C:\\Users\\a.santana\\Downloads\\1520 STEM HAADF-DF-I-DF-O-BF.emd\"\n",
    "myfilepath = r\"c:\\Users\\a.santana\\Downloads\\1038 STEM HAADF-DF4-DF2-BF DF4.mrc\""
   ]
  },
  {
   "cell_type": "code",
   "execution_count": 16,
   "id": "baa90352",
   "metadata": {},
   "outputs": [
    {
     "ename": "NameError",
     "evalue": "name 'read' is not defined",
     "output_type": "error",
     "traceback": [
      "\u001b[31m---------------------------------------------------------------------------\u001b[39m",
      "\u001b[31mNameError\u001b[39m                                 Traceback (most recent call last)",
      "\u001b[36mCell\u001b[39m\u001b[36m \u001b[39m\u001b[32mIn[16]\u001b[39m\u001b[32m, line 1\u001b[39m\n\u001b[32m----> \u001b[39m\u001b[32m1\u001b[39m emddata = \u001b[43mread\u001b[49m(filepath = myfilepath) \u001b[38;5;66;03m#or filepath = , emdpath = myemdpath\u001b[39;00m\n",
      "\u001b[31mNameError\u001b[39m: name 'read' is not defined"
     ]
    }
   ],
   "source": [
    "emddata = read(filepath = myfilepath) #or filepath = , emdpath = myemdpath"
   ]
  },
  {
   "cell_type": "code",
   "execution_count": 24,
   "id": "557cfad4",
   "metadata": {},
   "outputs": [
    {
     "name": "stdout",
     "output_type": "stream",
     "text": [
      "c:\\Users\\a.santana\\Downloads\\1038 STEM HAADF-DF4-DF2-BF DF4.mrc\n"
     ]
    },
    {
     "ename": "Exception",
     "evalue": "not supported `h5` data type",
     "output_type": "error",
     "traceback": [
      "\u001b[31m---------------------------------------------------------------------------\u001b[39m",
      "\u001b[31mException\u001b[39m                                 Traceback (most recent call last)",
      "\u001b[36mCell\u001b[39m\u001b[36m \u001b[39m\u001b[32mIn[24]\u001b[39m\u001b[32m, line 7\u001b[39m\n\u001b[32m      3\u001b[39m \u001b[38;5;28mprint\u001b[39m(myfilepath)\n\u001b[32m      5\u001b[39m \u001b[38;5;66;03m#datacube = py4DSTEM.import_file(filepath = myfilepath)\u001b[39;00m\n\u001b[32m----> \u001b[39m\u001b[32m7\u001b[39m data = \u001b[43mpy4DSTEM\u001b[49m\u001b[43m.\u001b[49m\u001b[43mread\u001b[49m\u001b[43m(\u001b[49m\u001b[43mfilepath\u001b[49m\u001b[43m \u001b[49m\u001b[43m=\u001b[49m\u001b[43m \u001b[49m\u001b[33;43mr\u001b[39;49m\u001b[33;43m'\u001b[39;49m\u001b[33;43mC:\u001b[39;49m\u001b[33;43m\\\u001b[39;49m\u001b[33;43mUsers\u001b[39;49m\u001b[33;43m\\\u001b[39;49m\u001b[33;43ma.santana\u001b[39;49m\u001b[33;43m\\\u001b[39;49m\u001b[33;43mDownloads\u001b[39;49m\u001b[33;43m\\\u001b[39;49m\u001b[33;43m1520 STEM HAADF-DF-I-DF-O-BF.emd\u001b[39;49m\u001b[33;43m'\u001b[39;49m\u001b[43m)\u001b[49m \u001b[38;5;66;03m#For emd\u001b[39;00m\n",
      "\u001b[36mFile \u001b[39m\u001b[32mc:\\Users\\a.santana\\OneDrive - University of Florida\\Desktop\\Arman 4Dstem\\venv\\Lib\\site-packages\\py4DSTEM\\io\\read.py:71\u001b[39m, in \u001b[36mread\u001b[39m\u001b[34m(filepath, datapath, tree, verbose, **kwargs)\u001b[39m\n\u001b[32m     68\u001b[39m \u001b[38;5;28;01massert\u001b[39;00m \u001b[38;5;28misinstance\u001b[39m(filepath, (\u001b[38;5;28mstr\u001b[39m, Path)), er1\n\u001b[32m     69\u001b[39m \u001b[38;5;28;01massert\u001b[39;00m exists(filepath), er2\n\u001b[32m---> \u001b[39m\u001b[32m71\u001b[39m filetype = \u001b[43m_parse_filetype\u001b[49m\u001b[43m(\u001b[49m\u001b[43mfilepath\u001b[49m\u001b[43m)\u001b[49m\n\u001b[32m     72\u001b[39m \u001b[38;5;28;01massert\u001b[39;00m filetype \u001b[38;5;129;01min\u001b[39;00m (\n\u001b[32m     73\u001b[39m     \u001b[33m\"\u001b[39m\u001b[33memd\u001b[39m\u001b[33m\"\u001b[39m,\n\u001b[32m     74\u001b[39m     \u001b[33m\"\u001b[39m\u001b[33mlegacy\u001b[39m\u001b[33m\"\u001b[39m,\n\u001b[32m     75\u001b[39m ), \u001b[33mf\u001b[39m\u001b[33m\"\u001b[39m\u001b[33m`py4DSTEM.read` loads native HDF5 formatted files, but a file of type \u001b[39m\u001b[38;5;132;01m{\u001b[39;00mfiletype\u001b[38;5;132;01m}\u001b[39;00m\u001b[33m was detected.  Try loading it using py4DSTEM.import_file\u001b[39m\u001b[33m\"\u001b[39m\n\u001b[32m     77\u001b[39m \u001b[38;5;66;03m# support older `root` input\u001b[39;00m\n",
      "\u001b[36mFile \u001b[39m\u001b[32mc:\\Users\\a.santana\\OneDrive - University of Florida\\Desktop\\Arman 4Dstem\\venv\\Lib\\site-packages\\py4DSTEM\\io\\parsefiletype.py:37\u001b[39m, in \u001b[36m_parse_filetype\u001b[39m\u001b[34m(fp)\u001b[39m\n\u001b[32m     35\u001b[39m         \u001b[38;5;28;01mreturn\u001b[39;00m \u001b[33m\"\u001b[39m\u001b[33mabTEM\u001b[39m\u001b[33m\"\u001b[39m\n\u001b[32m     36\u001b[39m     \u001b[38;5;28;01melse\u001b[39;00m:\n\u001b[32m---> \u001b[39m\u001b[32m37\u001b[39m         \u001b[38;5;28;01mraise\u001b[39;00m \u001b[38;5;167;01mException\u001b[39;00m(\u001b[33m\"\u001b[39m\u001b[33mnot supported `h5` data type\u001b[39m\u001b[33m\"\u001b[39m)\n\u001b[32m     39\u001b[39m \u001b[38;5;28;01melif\u001b[39;00m fext \u001b[38;5;129;01min\u001b[39;00m [\n\u001b[32m     40\u001b[39m     \u001b[33m\"\u001b[39m\u001b[33m.dm\u001b[39m\u001b[33m\"\u001b[39m,\n\u001b[32m     41\u001b[39m     \u001b[33m\"\u001b[39m\u001b[33m.dm3\u001b[39m\u001b[33m\"\u001b[39m,\n\u001b[32m     42\u001b[39m     \u001b[33m\"\u001b[39m\u001b[33m.dm4\u001b[39m\u001b[33m\"\u001b[39m,\n\u001b[32m     43\u001b[39m ]:\n\u001b[32m     44\u001b[39m     \u001b[38;5;28;01mreturn\u001b[39;00m \u001b[33m\"\u001b[39m\u001b[33mdm\u001b[39m\u001b[33m\"\u001b[39m\n",
      "\u001b[31mException\u001b[39m: not supported `h5` data type"
     ]
    }
   ],
   "source": [
    "#Import the file. Can Read dm3/4, .emd, bin/gtg, mib\n",
    "\n",
    "print(myfilepath)\n",
    "\n",
    "#datacube = py4DSTEM.import_file(filepath = myfilepath)\n",
    "\n",
    "data = py4DSTEM.read(filepath = r'C:\\Users\\a.santana\\Downloads\\1520 STEM HAADF-DF-I-DF-O-BF.emd') #For emd"
   ]
  },
  {
   "cell_type": "code",
   "execution_count": null,
   "id": "89f6a0f5",
   "metadata": {},
   "outputs": [],
   "source": [
    "# Mean and max diffraction pattern of the calibration and measurement datasets\n",
    "\n",
    "# compute\n",
    "dp_mean = datacube.get_dp_mean()\n",
    "dp_max = datacube.get_dp_max()\n",
    "\n",
    "# show\n",
    "show(\n",
    "    [dp_mean,dp_max],\n",
    "    cmap = 'inferno',\n",
    "    title = ['mean DP','max DP']\n",
    ")"
   ]
  },
  {
   "cell_type": "markdown",
   "id": "d4f114ca",
   "metadata": {},
   "source": [
    "# Find the Bragg Peaks"
   ]
  },
  {
   "cell_type": "code",
   "execution_count": null,
   "id": "90795c22",
   "metadata": {},
   "outputs": [],
   "source": [
    "py4DSTEM.braggvectors.diskdetection.find_bragg_disks()\n",
    "\n",
    "py4DSTEM.braggvectors.diskdetection.find_bragg_peaks()"
   ]
  },
  {
   "cell_type": "code",
   "execution_count": null,
   "id": "cec2f017",
   "metadata": {},
   "outputs": [],
   "source": [
    "# Choose some diffraction patterns to use for hyperparameter tuning\n",
    "\n",
    "\n",
    "rxs = 45, 25, 25, 35, 25, 66\n",
    "rys = 17, 39, 14, 17, 42, 25\n",
    "\n",
    "\n",
    "colors=['deeppink','coral','gold','chartreuse','dodgerblue','rebeccapurple']\n",
    "\n",
    "\n",
    "py4DSTEM.visualize.show_points(\n",
    "    im_adf,\n",
    "    x=rxs,\n",
    "    y=rys,\n",
    "    pointcolor=colors,\n",
    "    figsize=(4,4)\n",
    ")\n",
    "\n",
    "py4DSTEM.visualize.show_image_grid(\n",
    "    get_ar = lambda i:datacube.data[rxs[i],rys[i],:,:],\n",
    "    H=2, \n",
    "    W=3,\n",
    "    axsize=(5,5),\n",
    "    scaling='log',\n",
    "    vmin=0,\n",
    "    vmax=1,\n",
    "    get_bordercolor = lambda i:colors[i],\n",
    ")"
   ]
  },
  {
   "cell_type": "code",
   "execution_count": null,
   "id": "7eb36000",
   "metadata": {},
   "outputs": [],
   "source": [
    "# Tune disk detection parameters\n",
    "\n",
    "\n",
    "# disk detection parameters\n",
    "detect_params = {\n",
    "    'corrPower': 1.0,\n",
    "    'sigma': 0,\n",
    "    'edgeBoundary': 4,\n",
    "    'minRelativeIntensity': 0,\n",
    "    'minAbsoluteIntensity': 8,\n",
    "    'minPeakSpacing': 4,\n",
    "    'subpixel': 'poly',\n",
    "    # 'subpixel' : 'multicorr',\n",
    "    'upsample_factor': 8,\n",
    "    'maxNumPeaks': 1000,\n",
    "#     'CUDA': True,\n",
    "}\n",
    "# Note that \"poly\" subpixel fitting can be used to keep this tutoral fast, but \"multicorr\"\n",
    "# is more accurate. For high precision strain mapping, subpixel=\"multicorr\" is recommended.\n",
    "\n",
    "\n",
    "# find the selected disks\n",
    "disks_selected = datacube.find_Bragg_disks(\n",
    "    data = (rxs, rys),\n",
    "    template = probe.kernel,\n",
    "    **detect_params,\n",
    ")"
   ]
  },
  {
   "cell_type": "code",
   "execution_count": null,
   "id": "ee224bb3",
   "metadata": {},
   "outputs": [],
   "source": [
    "#Find peaks for all the probe positions\n",
    "\n",
    "braggpeaks = datacube.find_Bragg_disks(\n",
    "    template = probe.kernel,\n",
    "    **detect_params,\n",
    ")"
   ]
  },
  {
   "cell_type": "code",
   "execution_count": null,
   "id": "3785c30d",
   "metadata": {},
   "outputs": [],
   "source": []
  },
  {
   "cell_type": "markdown",
   "id": "e848d970",
   "metadata": {},
   "source": [
    "# Calibrate and center guess"
   ]
  },
  {
   "cell_type": "code",
   "execution_count": null,
   "id": "b73998fb",
   "metadata": {},
   "outputs": [],
   "source": []
  }
 ],
 "metadata": {
  "kernelspec": {
   "display_name": "venv",
   "language": "python",
   "name": "python3"
  },
  "language_info": {
   "codemirror_mode": {
    "name": "ipython",
    "version": 3
   },
   "file_extension": ".py",
   "mimetype": "text/x-python",
   "name": "python",
   "nbconvert_exporter": "python",
   "pygments_lexer": "ipython3",
   "version": "3.11.9"
  }
 },
 "nbformat": 4,
 "nbformat_minor": 5
}
