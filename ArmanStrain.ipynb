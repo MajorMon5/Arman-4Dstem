{
 "cells": [
  {
   "cell_type": "markdown",
   "id": "7ec994bb",
   "metadata": {},
   "source": [
    "# Useful links\n",
    "pyxem\n",
    "1. Documentation: https://pyxem.readthedocs.io/en/stable/user_guide/installing.html\n",
    "\n",
    "py4dStem\n",
    "1. Documentation: https://py4dstem.readthedocs.io/en/latest/api/py4DSTEM.html\n",
    "2. https://github.com/py4dstem/py4DSTEM/blob/dev/py4DSTEM/process/strain/strain.py\n",
    "3. \n"
   ]
  },
  {
   "cell_type": "code",
   "execution_count": null,
   "id": "7a302c25",
   "metadata": {},
   "outputs": [],
   "source": [
    "#Libraries\n",
    "import pandas as pd\n",
    "import py4DSTEM\n",
    "from py4DSTEM import show\n",
    "import numpy as np\n",
    "import matplotlib.pyplot as plt\n",
    "print('py4DSTEM version: {}'.format(py4DSTEM.__version__))"
   ]
  },
  {
   "cell_type": "code",
   "execution_count": null,
   "id": "557cfad4",
   "metadata": {},
   "outputs": [],
   "source": []
  },
  {
   "cell_type": "code",
   "execution_count": null,
   "id": "90795c22",
   "metadata": {},
   "outputs": [],
   "source": [
    "py4DSTEM.braggvectors.diskdetection.find_bragg_disks()\n",
    "\n",
    "py4DSTEM.braggvectors.diskdetection.find_bragg_peaks()"
   ]
  }
 ],
 "metadata": {
  "kernelspec": {
   "display_name": "venv311",
   "language": "python",
   "name": "python3"
  },
  "language_info": {
   "name": "python",
   "version": "3.11.9"
  }
 },
 "nbformat": 4,
 "nbformat_minor": 5
}
